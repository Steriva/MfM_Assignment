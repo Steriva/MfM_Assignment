{
  "cells": [
    {
      "cell_type": "markdown",
      "metadata": {
        "id": "view-in-github",
        "colab_type": "text"
      },
      "source": [
        "<a href=\"https://colab.research.google.com/github/Steriva/MfM_Assignment/blob/main/extra_NN_regression_example.ipynb\" target=\"_parent\"><img src=\"https://colab.research.google.com/assets/colab-badge.svg\" alt=\"Open In Colab\"/></a>"
      ]
    },
    {
      "cell_type": "markdown",
      "source": [
        "# Example of NN regression problem with PyTorch\n",
        "\n",
        "This notebook implements a Neural Network (NN) to perform regression on a given parametric function $f(x,\\mu)$."
      ],
      "metadata": {
        "id": "VH_Mgqnoa_zw"
      }
    },
    {
      "cell_type": "code",
      "source": [
        "!apt-get update"
      ],
      "metadata": {
        "id": "r3WF_fuCbNm6"
      },
      "execution_count": null,
      "outputs": []
    },
    {
      "cell_type": "code",
      "execution_count": null,
      "metadata": {
        "id": "vJxYVG0fc-Vy"
      },
      "outputs": [],
      "source": [
        "!apt install texlive-fonts-recommended texlive-fonts-extra cm-super dvipng"
      ]
    },
    {
      "cell_type": "markdown",
      "metadata": {
        "id": "FbNVYzadA47I"
      },
      "source": [
        "### Loading packages"
      ]
    },
    {
      "cell_type": "code",
      "execution_count": 3,
      "metadata": {
        "id": "pRgvm9qYA4J6"
      },
      "outputs": [],
      "source": [
        "import numpy as np\n",
        "import matplotlib.pyplot as plt\n",
        "from scipy.sparse import linalg as splinalg\n",
        "from scipy.sparse import spdiags\n",
        "from scipy import sparse\n",
        "from matplotlib import cm\n",
        "from matplotlib import rcParams\n",
        "\n",
        "from google.colab import files\n",
        "import tqdm.notebook\n",
        "# import tqdm.tqdm (uncomment this when executing as a .py)\n",
        "\n",
        "from numpy import linalg\n",
        "import torch\n",
        "import torch.nn as nn\n",
        "import torch.nn.functional as F\n",
        "\n",
        "from sklearn.model_selection import train_test_split\n",
        "from sklearn.preprocessing import MinMaxScaler\n",
        "\n",
        "import warnings\n",
        "warnings.filterwarnings('ignore')\n",
        "\n",
        "rcParams['figure.figsize'] = [12, 8]\n",
        "plt.rcParams.update({\n",
        "  \"text.usetex\": True,\n",
        "  \"font.family\": \"serif\"\n",
        "})\n",
        "\n",
        "rcParams['text.latex.preamble'] = [r'\\usepackage{amssymb,amsmath,amsthm, mathtools}']"
      ]
    },
    {
      "cell_type": "markdown",
      "source": [
        "The following parametric function will be\n",
        "\\begin{equation}\n",
        "f(x;\\,\\mu) = (1-x)\\cdot\\cos(\\mu^2\\pi(1+x))\\cdot e^{-\\mu(1+x)}\n",
        "\\end{equation}"
      ],
      "metadata": {
        "id": "yPnqx_wsfx2F"
      }
    },
    {
      "cell_type": "code",
      "source": [
        "mu = np.array([1.2]) # np.linspace(0,3+1e-3,int(5e1))\n",
        "x = np.zeros((int(1e3),))\n",
        "x = np.linspace(-1,1+1e-3,int(1e2))\n",
        "fun = lambda x, mu: (1-x) * np.cos(np.pi * (1+x) * mu**2) * np.exp(-mu * (1+x))\n",
        "\n",
        "function_to_fit = np.zeros((1,len(x),1))\n",
        "function_to_fit[0,:] = np.reshape(fun(x,mu[0]), [len(x),1])\n",
        "x_input = np.block([[x],\n",
        "                    [mu[0] * np.ones((len(x),))] ])\n",
        "\n",
        "for ii in range(1, len(mu)):\n",
        "  function_to_fit = np.block([function_to_fit, np.reshape(fun(x,mu[ii]), [len(x),1])])\n",
        "  add_input = np.block([[x],\n",
        "                       [mu[0] * np.ones((len(x),))] ])\n",
        "  x_input = np.block([ x_input, add_input ])\n",
        "\n",
        "function_to_fit = np.reshape(function_to_fit, (1,len(x_input.T)))\n",
        "\n",
        "# train test split. Size of train data is 80% and size of test data is 20%. \n",
        "x_train, x_test, y_train, y_test = train_test_split(x_input.T, function_to_fit.T,\n",
        "                                                    test_size = 0.2,\n",
        "                                                    random_state = 42)"
      ],
      "metadata": {
        "id": "OW2pS4pjgSNJ"
      },
      "execution_count": 4,
      "outputs": []
    },
    {
      "cell_type": "markdown",
      "source": [
        "The data are now stored in *Tensor* data type"
      ],
      "metadata": {
        "id": "OfBrPi0_jpKd"
      }
    },
    {
      "cell_type": "code",
      "source": [
        "# create feature and targets tensor for train set, we need variable to accumulate gradients. \n",
        "# Therefore first we create tensor, then we will create variable\n",
        "inputTrain  = torch.from_numpy(x_train.astype(np.float32))\n",
        "outputTrain = torch.from_numpy(y_train.astype(np.float32))\n",
        "\n",
        "inputTest  = torch.from_numpy(x_test.astype(np.float32))\n",
        "outputTest = torch.from_numpy(y_test.astype(np.float32))\n",
        "\n",
        "# Pytorch train and test sets\n",
        "train = torch.utils.data.TensorDataset(inputTrain,outputTrain)\n",
        "test  = torch.utils.data.TensorDataset(inputTest, outputTest)"
      ],
      "metadata": {
        "id": "tXL5e-trjpKr"
      },
      "execution_count": 5,
      "outputs": []
    },
    {
      "cell_type": "markdown",
      "source": [
        "The batch size and the number of epochs is defined. Moreover, the data are stored in *data loader* type."
      ],
      "metadata": {
        "id": "LT8m18MvjpKs"
      }
    },
    {
      "cell_type": "code",
      "source": [
        "# batch_size, epoch and iteration\n",
        "batch_size = 20\n",
        "n_iters = 5000\n",
        "num_epochs = n_iters / (len(inputTrain) / batch_size)\n",
        "num_epochs = int(num_epochs)\n",
        "\n",
        "# Data loader\n",
        "train_loader = torch.utils.data.DataLoader(train, batch_size = batch_size, pin_memory = True, shuffle = True)\n",
        "test_loader  = torch.utils.data.DataLoader(test,  batch_size = batch_size, pin_memory = True, shuffle = True)"
      ],
      "metadata": {
        "id": "9pdzDBlfjpKs"
      },
      "execution_count": 6,
      "outputs": []
    },
    {
      "cell_type": "markdown",
      "source": [
        "The neural network class is defined: three hidden layers are used activated with RELU."
      ],
      "metadata": {
        "id": "ADmjWqecjpKs"
      }
    },
    {
      "cell_type": "code",
      "source": [
        "class regressionNN(nn.Module):\n",
        "  # Initialize the layers\n",
        "  def __init__(self, input_dim, hidden_dim, output_dim):\n",
        "      super(regressionNN, self).__init__()\n",
        "      self.linear1 = nn.Linear(input_dim, hidden_dim)\n",
        "      self.linear2 = nn.Linear(hidden_dim, hidden_dim)\n",
        "      self.act = nn.ReLU() # Activation function\n",
        "      self.linearOut = nn.Linear(hidden_dim, output_dim)\n",
        "  \n",
        "  # Perform the computation\n",
        "  def forward(self, x):\n",
        "      x = self.linear1(x)\n",
        "      x = self.act(x)\n",
        "      x = self.linear2(x)\n",
        "      x = self.act(x)\n",
        "      x = self.linearOut(x)\n",
        "      return x"
      ],
      "metadata": {
        "id": "0Wb74r6Yid0s"
      },
      "execution_count": 7,
      "outputs": []
    },
    {
      "cell_type": "code",
      "source": [
        "input_dim = 2\n",
        "output_dim = 1\n",
        "hidden_dim = 200\n",
        "\n",
        "model = regressionNN(input_dim, hidden_dim, output_dim)\n",
        "\n",
        "learning_rate = 0.01\n",
        "loss_fn = nn.MSELoss()\n",
        "optimizer = torch.optim.SGD(model.parameters(), lr =learning_rate )\n",
        "\n",
        "loss_stats = { 'train': [], \"test\": [] }\n",
        "\n",
        "for epoch in tqdm.notebook.tqdm(range(1,num_epochs+1)):\n",
        "  train_epoch_loss = 0\n",
        "\n",
        "  for param, target in train_loader:\n",
        "\n",
        "    # Clear gradients\n",
        "    optimizer.zero_grad()\n",
        "    \n",
        "    # Forward propagation\n",
        "    NN_predict = model(param)\n",
        "    \n",
        "    # Compute loss\n",
        "    loss = loss_fn(NN_predict, target)\n",
        "    \n",
        "    # Calculating gradients\n",
        "    loss.backward()\n",
        "    \n",
        "    # Update parameters\n",
        "    optimizer.step()\n",
        "    \n",
        "    train_epoch_loss += loss.item()\n",
        "\n",
        "  with torch.no_grad():\n",
        "      test_epoch_loss = 0\n",
        "\n",
        "      for param, target in test_loader:\n",
        "        NN_predict = model(param)\n",
        "        loss = loss_fn(NN_predict, target)\n",
        "        test_epoch_loss += loss.item()\n",
        "\n",
        "  loss_stats['train'].append(train_epoch_loss/len(train_loader))\n",
        "  loss_stats['test'].append(test_epoch_loss/len(test_loader)) \n",
        "  print(f'Epoch {epoch+0:03}: | Train Loss: {train_epoch_loss/len(train_loader):.5f} | Val Loss: {test_epoch_loss/len(test_loader):.5f}')"
      ],
      "metadata": {
        "id": "A6Zd8O7JMbN6"
      },
      "execution_count": null,
      "outputs": []
    },
    {
      "cell_type": "code",
      "source": [
        "lossFtFigure = plt.figure()\n",
        "\n",
        "plt.plot(loss_stats['train'], 'b', label = 'Train Loss')\n",
        "plt.plot(loss_stats['test'],  'r', label = 'Test Loss')\n",
        "plt.xlabel(r'Epochs', fontsize = 20)\n",
        "plt.ylabel(r'Loss Function', fontsize = 20)\n",
        "plt.grid(which='major',linestyle='-')\n",
        "plt.grid(which='minor',linestyle='--')\n",
        "plt.legend(fontsize = 20)\n",
        "\n",
        "lossFtFigure.savefig('lossFt.pdf', format='pdf', dpi=600, bbox_inches='tight')"
      ],
      "metadata": {
        "id": "cZUsHZJWVuwj",
        "colab": {
          "base_uri": "https://localhost:8080/",
          "height": 503
        },
        "outputId": "92925ca6-8b28-4ed4-8394-45037a242327"
      },
      "execution_count": 9,
      "outputs": [
        {
          "output_type": "display_data",
          "data": {
            "text/plain": [
              "<Figure size 864x576 with 1 Axes>"
            ],
            "image/png": "[encoded data removed]"
          },
          "metadata": {
            "needs_background": "light"
          }
        }
      ]
    },
    {
      "cell_type": "code",
      "source": [
        "class regressionNN(nn.Module):\n",
        "  # Initialize the layers\n",
        "  def __init__(self, input_dim, hidden_dim, output_dim):\n",
        "      super(regressionNN, self).__init__()\n",
        "      self.linear1 = nn.Linear(input_dim, hidden_dim)\n",
        "      self.act = nn.ReLU() # Activation function\n",
        "      self.linearOut = nn.Linear(hidden_dim, output_dim)\n",
        "  \n",
        "  # Perform the computation\n",
        "  def forward(self, x):\n",
        "      x = self.linear1(x)\n",
        "      x = self.act(x)\n",
        "      x = self.linearOut(x)\n",
        "      return x\n",
        "\n",
        "input_dim = 2\n",
        "output_dim = 1\n",
        "\n",
        "def computeError(hidden_dim):\n",
        "  model = regressionNN(input_dim, hidden_dim, output_dim)\n",
        "\n",
        "  learning_rate = 0.005\n",
        "  loss_fn = nn.MSELoss()\n",
        "  optimizer = torch.optim.SGD(model.parameters(), lr =learning_rate )\n",
        "\n",
        "  loss_stats = { 'train': [], \"test\": [] }\n",
        "\n",
        "  for epoch in range(1,num_epochs+1):\n",
        "    train_epoch_loss = 0\n",
        "\n",
        "    for param, target in train_loader:\n",
        "\n",
        "      # Clear gradients\n",
        "      optimizer.zero_grad()\n",
        "      \n",
        "      # Forward propagation\n",
        "      NN_predict = model(param)\n",
        "      \n",
        "      # Compute loss\n",
        "      loss = loss_fn(NN_predict, target)\n",
        "      \n",
        "      # Calculating gradients\n",
        "      loss.backward()\n",
        "      \n",
        "      # Update parameters\n",
        "      optimizer.step()\n",
        "      \n",
        "      train_epoch_loss += loss.item()\n",
        "\n",
        "    with torch.no_grad():\n",
        "        test_epoch_loss = 0\n",
        "\n",
        "        for param, target in test_loader:\n",
        "          NN_predict = model(param)\n",
        "          loss = loss_fn(NN_predict, target)\n",
        "          test_epoch_loss += loss.item()\n",
        "\n",
        "    loss_stats['train'].append(train_epoch_loss/len(train_loader))\n",
        "    loss_stats['test'].append(test_epoch_loss/len(test_loader)) \n",
        "    # print(f'Epoch {epoch+0:03}: | Train Loss: {train_epoch_loss/len(train_loader):.5f} | Val Loss: {test_epoch_loss/len(test_loader):.5f}')\n",
        "  \n",
        "  # compute error\n",
        "  errorNN = np.zeros((len(x),1))\n",
        "  for kk in range(len(x)):\n",
        "    errorNN[kk] = model(torch.from_numpy(np.block([x[kk].astype(np.float32), mu[0].astype(np.float32)]))).detach().numpy() - function_to_fit[0,kk]\n",
        "  return errorNN"
      ],
      "metadata": {
        "id": "gps71EvC0ft8"
      },
      "execution_count": 10,
      "outputs": []
    },
    {
      "cell_type": "code",
      "source": [
        "hidden_dimension = np.array([5, 10, 20, 50, 100, 200, 300, 400, 500])\n",
        "errorMatrix = np.zeros((len(hidden_dimension),1))\n",
        "\n",
        "for idx in tqdm.notebook.tqdm(range(len(hidden_dimension))):\n",
        "  tmp = computeError(hidden_dimension[idx])\n",
        "  errorMatrix[idx,0] = np.sqrt(np.trapz(np.power(tmp,2.), x, axis = 0) / np.trapz(np.power(function_to_fit[0,:],2.), x, axis = 0))\n",
        "\n",
        "errorFigure = plt.figure()\n",
        "\n",
        "plt.semilogy(hidden_dimension, errorMatrix, 'r-^')\n",
        "plt.xlabel(r'Hidden Layer Dim', fontsize = 20)\n",
        "plt.ylabel(r'$||\\varepsilon||_{L^2}$', fontsize = 20)\n",
        "plt.grid(which='major',linestyle='-')\n",
        "plt.grid(which='minor',linestyle='--')\n",
        "\n",
        "errorFigure.savefig('error.pdf', format='pdf', dpi=600, bbox_inches='tight')"
      ],
      "metadata": {
        "id": "6Y8OTRGR0ivM",
        "colab": {
          "base_uri": "https://localhost:8080/",
          "height": 535,
          "referenced_widgets": [
            "323d359c0118468893de7ffc55dfefe8",
            "3154359009f34de280a84e1c3f5856c6",
            "917b9e8785224667a46d9eeece73ef2b",
            "a88b4f9d05cf4bafb220ea0a8e91b29e",
            "d679a092e31b4ad5bb0894b46e2dc8e9",
            "a99652d3d54b4f70adc23dc4596c6b04",
            "984a8e0efcfe4d5ca14338c4cb463e33",
            "d6abff59c9934294ab2eba7bb7d407c4",
            "6e6828607bb54a808fc39f72bd35afbb",
            "15764cefa2434fbd9abf7ed2c815fd47",
            "b591059c8a8d4d05ac67a53dd609b596"
          ]
        },
        "outputId": "f05c9a0e-4bec-41f2-fb45-270ccacbc0f4"
      },
      "execution_count": 11,
      "outputs": [
        {
          "output_type": "display_data",
          "data": {
            "text/plain": [
              "  0%|          | 0/9 [00:00<?, ?it/s]"
            ],
            "application/vnd.jupyter.widget-view+json": {
              "version_major": 2,
              "version_minor": 0,
              "model_id": "323d359c0118468893de7ffc55dfefe8"
            }
          },
          "metadata": {}
        },
        {
          "output_type": "display_data",
          "data": {
            "text/plain": [
              "<Figure size 864x576 with 1 Axes>"
            ],
            "image/png": "[encoded data removed]"
          },
          "metadata": {
            "needs_background": "light"
          }
        }
      ]
    }
  ],
  "metadata": {
    "colab": {
      "collapsed_sections": [],
      "provenance": [],
      "authorship_tag": "ABX9TyPthG2M9IUTyOl4u8zsRH6e",
      "include_colab_link": true
    },
    "kernelspec": {
      "display_name": "Python 3",
      "name": "python3"
    },
    "language_info": {
      "name": "python"
    },
    "widgets": {
      "application/vnd.jupyter.widget-state+json": {
        "323d359c0118468893de7ffc55dfefe8": {
          "model_module": "@jupyter-widgets/controls",
          "model_name": "HBoxModel",
          "model_module_version": "1.5.0",
          "state": {
            "_dom_classes": [],
            "_model_module": "@jupyter-widgets/controls",
            "_model_module_version": "1.5.0",
            "_model_name": "HBoxModel",
            "_view_count": null,
            "_view_module": "@jupyter-widgets/controls",
            "_view_module_version": "1.5.0",
            "_view_name": "HBoxView",
            "box_style": "",
            "children": [
              "IPY_MODEL_3154359009f34de280a84e1c3f5856c6",
              "IPY_MODEL_917b9e8785224667a46d9eeece73ef2b",
              "IPY_MODEL_a88b4f9d05cf4bafb220ea0a8e91b29e"
            ],
            "layout": "IPY_MODEL_d679a092e31b4ad5bb0894b46e2dc8e9"
          }
        },
        "3154359009f34de280a84e1c3f5856c6": {
          "model_module": "@jupyter-widgets/controls",
          "model_name": "HTMLModel",
          "model_module_version": "1.5.0",
          "state": {
            "_dom_classes": [],
            "_model_module": "@jupyter-widgets/controls",
            "_model_module_version": "1.5.0",
            "_model_name": "HTMLModel",
            "_view_count": null,
            "_view_module": "@jupyter-widgets/controls",
            "_view_module_version": "1.5.0",
            "_view_name": "HTMLView",
            "description": "",
            "description_tooltip": null,
            "layout": "IPY_MODEL_a99652d3d54b4f70adc23dc4596c6b04",
            "placeholder": "​",
            "style": "IPY_MODEL_984a8e0efcfe4d5ca14338c4cb463e33",
            "value": "100%"
          }
        },
        "917b9e8785224667a46d9eeece73ef2b": {
          "model_module": "@jupyter-widgets/controls",
          "model_name": "FloatProgressModel",
          "model_module_version": "1.5.0",
          "state": {
            "_dom_classes": [],
            "_model_module": "@jupyter-widgets/controls",
            "_model_module_version": "1.5.0",
            "_model_name": "FloatProgressModel",
            "_view_count": null,
            "_view_module": "@jupyter-widgets/controls",
            "_view_module_version": "1.5.0",
            "_view_name": "ProgressView",
            "bar_style": "success",
            "description": "",
            "description_tooltip": null,
            "layout": "IPY_MODEL_d6abff59c9934294ab2eba7bb7d407c4",
            "max": 9,
            "min": 0,
            "orientation": "horizontal",
            "style": "IPY_MODEL_6e6828607bb54a808fc39f72bd35afbb",
            "value": 9
          }
        },
        "a88b4f9d05cf4bafb220ea0a8e91b29e": {
          "model_module": "@jupyter-widgets/controls",
          "model_name": "HTMLModel",
          "model_module_version": "1.5.0",
          "state": {
            "_dom_classes": [],
            "_model_module": "@jupyter-widgets/controls",
            "_model_module_version": "1.5.0",
            "_model_name": "HTMLModel",
            "_view_count": null,
            "_view_module": "@jupyter-widgets/controls",
            "_view_module_version": "1.5.0",
            "_view_name": "HTMLView",
            "description": "",
            "description_tooltip": null,
            "layout": "IPY_MODEL_15764cefa2434fbd9abf7ed2c815fd47",
            "placeholder": "​",
            "style": "IPY_MODEL_b591059c8a8d4d05ac67a53dd609b596",
            "value": " 9/9 [00:42&lt;00:00,  6.06s/it]"
          }
        },
        "d679a092e31b4ad5bb0894b46e2dc8e9": {
          "model_module": "@jupyter-widgets/base",
          "model_name": "LayoutModel",
          "model_module_version": "1.2.0",
          "state": {
            "_model_module": "@jupyter-widgets/base",
            "_model_module_version": "1.2.0",
            "_model_name": "LayoutModel",
            "_view_count": null,
            "_view_module": "@jupyter-widgets/base",
            "_view_module_version": "1.2.0",
            "_view_name": "LayoutView",
            "align_content": null,
            "align_items": null,
            "align_self": null,
            "border": null,
            "bottom": null,
            "display": null,
            "flex": null,
            "flex_flow": null,
            "grid_area": null,
            "grid_auto_columns": null,
            "grid_auto_flow": null,
            "grid_auto_rows": null,
            "grid_column": null,
            "grid_gap": null,
            "grid_row": null,
            "grid_template_areas": null,
            "grid_template_columns": null,
            "grid_template_rows": null,
            "height": null,
            "justify_content": null,
            "justify_items": null,
            "left": null,
            "margin": null,
            "max_height": null,
            "max_width": null,
            "min_height": null,
            "min_width": null,
            "object_fit": null,
            "object_position": null,
            "order": null,
            "overflow": null,
            "overflow_x": null,
            "overflow_y": null,
            "padding": null,
            "right": null,
            "top": null,
            "visibility": null,
            "width": null
          }
        },
        "a99652d3d54b4f70adc23dc4596c6b04": {
          "model_module": "@jupyter-widgets/base",
          "model_name": "LayoutModel",
          "model_module_version": "1.2.0",
          "state": {
            "_model_module": "@jupyter-widgets/base",
            "_model_module_version": "1.2.0",
            "_model_name": "LayoutModel",
            "_view_count": null,
            "_view_module": "@jupyter-widgets/base",
            "_view_module_version": "1.2.0",
            "_view_name": "LayoutView",
            "align_content": null,
            "align_items": null,
            "align_self": null,
            "border": null,
            "bottom": null,
            "display": null,
            "flex": null,
            "flex_flow": null,
            "grid_area": null,
            "grid_auto_columns": null,
            "grid_auto_flow": null,
            "grid_auto_rows": null,
            "grid_column": null,
            "grid_gap": null,
            "grid_row": null,
            "grid_template_areas": null,
            "grid_template_columns": null,
            "grid_template_rows": null,
            "height": null,
            "justify_content": null,
            "justify_items": null,
            "left": null,
            "margin": null,
            "max_height": null,
            "max_width": null,
            "min_height": null,
            "min_width": null,
            "object_fit": null,
            "object_position": null,
            "order": null,
            "overflow": null,
            "overflow_x": null,
            "overflow_y": null,
            "padding": null,
            "right": null,
            "top": null,
            "visibility": null,
            "width": null
          }
        },
        "984a8e0efcfe4d5ca14338c4cb463e33": {
          "model_module": "@jupyter-widgets/controls",
          "model_name": "DescriptionStyleModel",
          "model_module_version": "1.5.0",
          "state": {
            "_model_module": "@jupyter-widgets/controls",
            "_model_module_version": "1.5.0",
            "_model_name": "DescriptionStyleModel",
            "_view_count": null,
            "_view_module": "@jupyter-widgets/base",
            "_view_module_version": "1.2.0",
            "_view_name": "StyleView",
            "description_width": ""
          }
        },
        "d6abff59c9934294ab2eba7bb7d407c4": {
          "model_module": "@jupyter-widgets/base",
          "model_name": "LayoutModel",
          "model_module_version": "1.2.0",
          "state": {
            "_model_module": "@jupyter-widgets/base",
            "_model_module_version": "1.2.0",
            "_model_name": "LayoutModel",
            "_view_count": null,
            "_view_module": "@jupyter-widgets/base",
            "_view_module_version": "1.2.0",
            "_view_name": "LayoutView",
            "align_content": null,
            "align_items": null,
            "align_self": null,
            "border": null,
            "bottom": null,
            "display": null,
            "flex": null,
            "flex_flow": null,
            "grid_area": null,
            "grid_auto_columns": null,
            "grid_auto_flow": null,
            "grid_auto_rows": null,
            "grid_column": null,
            "grid_gap": null,
            "grid_row": null,
            "grid_template_areas": null,
            "grid_template_columns": null,
            "grid_template_rows": null,
            "height": null,
            "justify_content": null,
            "justify_items": null,
            "left": null,
            "margin": null,
            "max_height": null,
            "max_width": null,
            "min_height": null,
            "min_width": null,
            "object_fit": null,
            "object_position": null,
            "order": null,
            "overflow": null,
            "overflow_x": null,
            "overflow_y": null,
            "padding": null,
            "right": null,
            "top": null,
            "visibility": null,
            "width": null
          }
        },
        "6e6828607bb54a808fc39f72bd35afbb": {
          "model_module": "@jupyter-widgets/controls",
          "model_name": "ProgressStyleModel",
          "model_module_version": "1.5.0",
          "state": {
            "_model_module": "@jupyter-widgets/controls",
            "_model_module_version": "1.5.0",
            "_model_name": "ProgressStyleModel",
            "_view_count": null,
            "_view_module": "@jupyter-widgets/base",
            "_view_module_version": "1.2.0",
            "_view_name": "StyleView",
            "bar_color": null,
            "description_width": ""
          }
        },
        "15764cefa2434fbd9abf7ed2c815fd47": {
          "model_module": "@jupyter-widgets/base",
          "model_name": "LayoutModel",
          "model_module_version": "1.2.0",
          "state": {
            "_model_module": "@jupyter-widgets/base",
            "_model_module_version": "1.2.0",
            "_model_name": "LayoutModel",
            "_view_count": null,
            "_view_module": "@jupyter-widgets/base",
            "_view_module_version": "1.2.0",
            "_view_name": "LayoutView",
            "align_content": null,
            "align_items": null,
            "align_self": null,
            "border": null,
            "bottom": null,
            "display": null,
            "flex": null,
            "flex_flow": null,
            "grid_area": null,
            "grid_auto_columns": null,
            "grid_auto_flow": null,
            "grid_auto_rows": null,
            "grid_column": null,
            "grid_gap": null,
            "grid_row": null,
            "grid_template_areas": null,
            "grid_template_columns": null,
            "grid_template_rows": null,
            "height": null,
            "justify_content": null,
            "justify_items": null,
            "left": null,
            "margin": null,
            "max_height": null,
            "max_width": null,
            "min_height": null,
            "min_width": null,
            "object_fit": null,
            "object_position": null,
            "order": null,
            "overflow": null,
            "overflow_x": null,
            "overflow_y": null,
            "padding": null,
            "right": null,
            "top": null,
            "visibility": null,
            "width": null
          }
        },
        "b591059c8a8d4d05ac67a53dd609b596": {
          "model_module": "@jupyter-widgets/controls",
          "model_name": "DescriptionStyleModel",
          "model_module_version": "1.5.0",
          "state": {
            "_model_module": "@jupyter-widgets/controls",
            "_model_module_version": "1.5.0",
            "_model_name": "DescriptionStyleModel",
            "_view_count": null,
            "_view_module": "@jupyter-widgets/base",
            "_view_module_version": "1.2.0",
            "_view_name": "StyleView",
            "description_width": ""
          }
        }
      }
    }
  },
  "nbformat": 4,
  "nbformat_minor": 0
}